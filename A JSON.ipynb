{
 "cells": [
  {
   "cell_type": "markdown",
   "metadata": {},
   "source": [
    "# [CPSC 222](https://github.com/GonzagaCPSC222) Intro to Data Science\n",
    "[Gonzaga University](https://www.gonzaga.edu/)\n",
    "\n",
    "[Gina Sprint](http://cs.gonzaga.edu/faculty/sprint/)\n",
    "\n",
    "# JSON\n",
    "What are our learning objectives for this lesson?\n",
    "* Learn about JSON\n",
    "* Parse data from a JSON object\n",
    "\n",
    "Content used in this lesson is based upon information in the following sources:\n",
    "* None to report"
   ]
  },
  {
   "cell_type": "markdown",
   "metadata": {},
   "source": [
    "## JSON\n",
    "* JSON (Javascript Object Notation): a lightweight data structure commonly used for passing data around on the web (followed by XML as a close second, eXtensible Markup Language). \n",
    "    * Not specific to Javascript\n",
    "    * Easy for humans to read and write\n",
    "    * Easy for machines to parse and generate\n",
    "* JSON is a collection of name/value pairs (JSON is really just a dictionary)\n",
    "    * Names are strings\n",
    "    * Values can be any of the following types\n",
    "        * String\n",
    "        * Number\n",
    "        * Object (JSON object) \n",
    "            * Curly braces hold objects\n",
    "        * Array\n",
    "            * Square brackets hold arrays\n",
    "        * Boolean\n",
    "        * Null\n",
    "* Example JSON object from https://www.w3schools.com/js/js_json_xml.asp:\n",
    "\n",
    "```json\n",
    "{\"employees\":[\n",
    "  { \"firstName\":\"John\", \"lastName\":\"Doe\" },\n",
    "  { \"firstName\":\"Anna\", \"lastName\":\"Smith\" },\n",
    "  { \"firstName\":\"Peter\", \"lastName\":\"Jones\" }\n",
    "]}\n",
    "```\n",
    "\n",
    "* Compared with the same info stored in XML\n",
    "\n",
    "```xml\n",
    "<employees>\n",
    "  <employee>\n",
    "    <firstName>John</firstName> <lastName>Doe</lastName>\n",
    "  </employee>\n",
    "  <employee>\n",
    "    <firstName>Anna</firstName> <lastName>Smith</lastName>\n",
    "  </employee>\n",
    "  <employee>\n",
    "    <firstName>Peter</firstName> <lastName>Jones</lastName>\n",
    "  </employee>\n",
    "</employees>\n",
    "```\n",
    "\n",
    "* Learn more about JSON with the [W3 Schools JSON tutorial](https://www.w3schools.com/js/js_json_intro.asp)\n",
    "    * W3 Schools is also the source of the above JSON vs XML example"
   ]
  },
  {
   "cell_type": "markdown",
   "metadata": {},
   "source": [
    "## Working with JSON in Python\n",
    "Here is another example JSON object:\n",
    "\n",
    "```json\n",
    "{\n",
    "    \"TimestampUTC\": \"2020-03-24T00:27:00Z\",\n",
    "    \"TimestampSubjectTZ\": \"2020-03-23T20:27:00\",\n",
    "    \"Calories\": 0.0234859050963356,\n",
    "    \"HR\": 0.0,\n",
    "    \"Lux\": null,\n",
    "    \"Steps\": 0.0,\n",
    "    \"Wear\": true,\n",
    "    \"x\": 0,\n",
    "    \"y\": 35,\n",
    "    \"z\": 0,\n",
    "    \"AxisXCounts\": 0,\n",
    "    \"AxisYCounts\": 35,\n",
    "    \"AxisZCounts\": 0\n",
    "  }\n",
    "```\n",
    "\n",
    "The above JSON object represents one minute of wearable data collected from a device called an Actigraph. The [actigraph_data.json](https://raw.githubusercontent.com/GonzagaCPSC222/U5-JSON-APIs/master/files/actigraph_data.json) file contains an array of five minutes of such JSON objects."
   ]
  },
  {
   "cell_type": "markdown",
   "metadata": {},
   "source": [
    "We can open this file and load its data in using the `json` module. This will give us a Python list or dictionary:"
   ]
  },
  {
   "cell_type": "code",
   "execution_count": 1,
   "metadata": {},
   "outputs": [
    {
     "name": "stdout",
     "output_type": "stream",
     "text": [
      "[{'TimestampUTC': '2020-03-24T00:27:00Z', 'TimestampSubjectTZ': '2020-03-23T20:27:00', 'Calories': 0.0234859050963356, 'HR': 0.0, 'Lux': None, 'Steps': 0.0, 'Wear': True, 'x': 0, 'y': 35, 'z': 0, 'AxisXCounts': 0, 'AxisYCounts': 35, 'AxisZCounts': 0}, {'TimestampUTC': '2020-03-24T00:28:00Z', 'TimestampSubjectTZ': '2020-03-23T20:28:00', 'Calories': 0.042274629173404, 'HR': 0.0, 'Lux': None, 'Steps': 0.0, 'Wear': True, 'x': 44, 'y': 63, 'z': 55, 'AxisXCounts': 44, 'AxisYCounts': 63, 'AxisZCounts': 55}, {'TimestampUTC': '2020-03-24T00:29:00Z', 'TimestampSubjectTZ': '2020-03-23T20:29:00', 'Calories': 0.0, 'HR': 0.0, 'Lux': None, 'Steps': 0.0, 'Wear': True, 'x': 0, 'y': 0, 'z': 0, 'AxisXCounts': 0, 'AxisYCounts': 0, 'AxisZCounts': 0}, {'TimestampUTC': '2020-03-24T00:30:00Z', 'TimestampSubjectTZ': '2020-03-23T20:30:00', 'Calories': 0.224122637205031, 'HR': 0.0, 'Lux': None, 'Steps': 0.0, 'Wear': True, 'x': 193, 'y': 334, 'z': 71, 'AxisXCounts': 193, 'AxisYCounts': 334, 'AxisZCounts': 71}, {'TimestampUTC': '2020-03-24T00:31:00Z', 'TimestampSubjectTZ': '2020-03-23T20:31:00', 'Calories': 0.0154335947775919, 'HR': 0.0, 'Lux': None, 'Steps': 0.0, 'Wear': True, 'x': 30, 'y': 23, 'z': 0, 'AxisXCounts': 30, 'AxisYCounts': 23, 'AxisZCounts': 0}]\n",
      "<class 'list'>\n",
      "\n",
      "{'TimestampUTC': '2020-03-24T00:27:00Z', 'TimestampSubjectTZ': '2020-03-23T20:27:00', 'Calories': 0.0234859050963356, 'HR': 0.0, 'Lux': None, 'Steps': 0.0, 'Wear': True, 'x': 0, 'y': 35, 'z': 0, 'AxisXCounts': 0, 'AxisYCounts': 35, 'AxisZCounts': 0}\n",
      "<class 'dict'>\n",
      "\n",
      "0.0234859050963356\n",
      "<class 'float'>\n"
     ]
    }
   ],
   "source": [
    "import json\n",
    "\n",
    "infile = open(\"files/actigraph_data.json\", \"r\")\n",
    "json_list = json.load(infile) # returns a list in this case (see file contents)\n",
    "print(json_list)\n",
    "print(type(json_list))\n",
    "print()\n",
    "\n",
    "# index once into the list to get a dict\n",
    "first_minute_of_data = json_list[0]\n",
    "print(first_minute_of_data)\n",
    "print(type(first_minute_of_data))\n",
    "print()\n",
    "\n",
    "# use a key to get a value from the JSON object dictionary\n",
    "calories = first_minute_of_data[\"Calories\"]\n",
    "print(calories)\n",
    "print(type(calories))"
   ]
  },
  {
   "cell_type": "markdown",
   "metadata": {},
   "source": [
    "We can also open this file and load its data in using pandas `read_json()` function. This will give us `DataFrame`:"
   ]
  },
  {
   "cell_type": "code",
   "execution_count": 2,
   "metadata": {},
   "outputs": [
    {
     "name": "stdout",
     "output_type": "stream",
     "text": [
      "               TimestampUTC  TimestampSubjectTZ  Calories  HR  Lux  Steps  \\\n",
      "0 2020-03-24 00:27:00+00:00 2020-03-23 20:27:00  0.023486   0  NaN      0   \n",
      "1 2020-03-24 00:28:00+00:00 2020-03-23 20:28:00  0.042275   0  NaN      0   \n",
      "2 2020-03-24 00:29:00+00:00 2020-03-23 20:29:00  0.000000   0  NaN      0   \n",
      "3 2020-03-24 00:30:00+00:00 2020-03-23 20:30:00  0.224123   0  NaN      0   \n",
      "4 2020-03-24 00:31:00+00:00 2020-03-23 20:31:00  0.015434   0  NaN      0   \n",
      "\n",
      "   Wear    x    y   z  AxisXCounts  AxisYCounts  AxisZCounts  \n",
      "0  True    0   35   0            0           35            0  \n",
      "1  True   44   63  55           44           63           55  \n",
      "2  True    0    0   0            0            0            0  \n",
      "3  True  193  334  71          193          334           71  \n",
      "4  True   30   23   0           30           23            0  \n"
     ]
    }
   ],
   "source": [
    "import pandas as pd \n",
    "\n",
    "df = pd.read_json(\"files/actigraph_data.json\")\n",
    "print(df)"
   ]
  }
 ],
 "metadata": {
  "kernelspec": {
   "display_name": "Python 3 (ipykernel)",
   "language": "python",
   "name": "python3"
  },
  "language_info": {
   "codemirror_mode": {
    "name": "ipython",
    "version": 3
   },
   "file_extension": ".py",
   "mimetype": "text/x-python",
   "name": "python",
   "nbconvert_exporter": "python",
   "pygments_lexer": "ipython3",
   "version": "3.9.7"
  }
 },
 "nbformat": 4,
 "nbformat_minor": 4
}
